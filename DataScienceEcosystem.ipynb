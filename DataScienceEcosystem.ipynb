{
 "cells": [
  {
   "cell_type": "markdown",
   "id": "4c454b7f-5482-4a08-a3f6-7d7fa1c34218",
   "metadata": {},
   "source": [
    "# Data Science Tools and Ecosystem"
   ]
  },
  {
   "cell_type": "markdown",
   "id": "87b6111c-4418-4f2f-965e-fea3d9dd311c",
   "metadata": {},
   "source": [
    "In this notebook, Data Science Tools and Ecosystem are summarized."
   ]
  },
  {
   "cell_type": "markdown",
   "id": "5df263a7-2dc8-499e-96fc-a1a84ddc3522",
   "metadata": {},
   "source": [
    "**Objectives:**\n",
    "* List popular languages in data science\n",
    "* Create a code cell to convert 200 minutes into hours\n",
    "* List commonly used languages in data science"
   ]
  },
  {
   "cell_type": "markdown",
   "id": "f09f035f-4c10-42dc-b006-f1427dbce569",
   "metadata": {},
   "source": [
    "Some of the popular languages that Data Scientists use are:\n",
    "1. Python\n",
    "2. R\n",
    "3. Julia"
   ]
  },
  {
   "cell_type": "markdown",
   "id": "db81f4f9-538d-45e4-a8b9-adbcb2f3efc8",
   "metadata": {},
   "source": [
    "Some of the commonly used libraries used by Data Scientists include:\n",
    "1. NumPy\n",
    "2. Pandas\n",
    "3. Plotly"
   ]
  },
  {
   "cell_type": "markdown",
   "id": "e9260de2-1c50-484d-a2c3-ccbe135d9ad7",
   "metadata": {},
   "source": [
    "|Data Science Tools|\n",
    "|---|\n",
    "|Apache Spark|\n",
    "|Apache Hadoop|\n",
    "|Jupyter Notebook|"
   ]
  },
  {
   "cell_type": "markdown",
   "id": "4624dd70-891b-4d5c-9b32-741a1df2b771",
   "metadata": {},
   "source": [
    "### Below are a few examples of evaluating arithmetic expressions in Python."
   ]
  },
  {
   "cell_type": "code",
   "execution_count": 2,
   "id": "4065b5ef-8450-49bf-b25f-db5c265b3d91",
   "metadata": {},
   "outputs": [
    {
     "data": {
      "text/plain": [
       "17"
      ]
     },
     "execution_count": 2,
     "metadata": {},
     "output_type": "execute_result"
    }
   ],
   "source": [
    "# This is an arithemetic expression to multiply then add integers.  \n",
    "(3*4)+5"
   ]
  },
  {
   "cell_type": "code",
   "execution_count": 5,
   "id": "6f1ddaa0-2cc9-40bf-99f2-b4088b92fbc1",
   "metadata": {},
   "outputs": [
    {
     "name": "stdout",
     "output_type": "stream",
     "text": [
      "3.3333333333333335\n"
     ]
    }
   ],
   "source": [
    "# This will convert 200 minutes to hours by dividing by 60.\n",
    "print (200/60)"
   ]
  },
  {
   "cell_type": "markdown",
   "id": "5f7b2986-f1c0-4321-8e8f-1acd9fac1e1d",
   "metadata": {},
   "source": [
    "## Author\n",
    "Eli Cherone"
   ]
  },
  {
   "cell_type": "code",
   "execution_count": null,
   "id": "54d48f2d-2232-4616-82e0-3b4a83a08168",
   "metadata": {},
   "outputs": [],
   "source": []
  }
 ],
 "metadata": {
  "kernelspec": {
   "display_name": "Python 3 (ipykernel)",
   "language": "python",
   "name": "python3"
  },
  "language_info": {
   "codemirror_mode": {
    "name": "ipython",
    "version": 3
   },
   "file_extension": ".py",
   "mimetype": "text/x-python",
   "name": "python",
   "nbconvert_exporter": "python",
   "pygments_lexer": "ipython3",
   "version": "3.12.8"
  }
 },
 "nbformat": 4,
 "nbformat_minor": 5
}
